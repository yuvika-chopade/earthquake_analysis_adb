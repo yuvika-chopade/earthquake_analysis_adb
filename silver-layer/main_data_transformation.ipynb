{
 "cells": [
  {
   "cell_type": "code",
   "execution_count": 0,
   "metadata": {
    "application/vnd.databricks.v1+cell": {
     "cellMetadata": {
      "byteLimit": 2048000,
      "rowLimit": 10000
     },
     "inputWidgets": {},
     "nuid": "24968dc5-aba4-4066-bb66-52a052ffca72",
     "showTitle": false,
     "tableResultSettingsMap": {},
     "title": ""
    }
   },
   "outputs": [],
   "source": [
    "%run ../utils"
   ]
  },
  {
   "cell_type": "code",
   "execution_count": 0,
   "metadata": {
    "application/vnd.databricks.v1+cell": {
     "cellMetadata": {
      "byteLimit": 2048000,
      "rowLimit": 10000
     },
     "inputWidgets": {},
     "nuid": "9007db93-bab1-4774-90bd-2914402b2ccc",
     "showTitle": false,
     "tableResultSettingsMap": {},
     "title": ""
    }
   },
   "outputs": [],
   "source": [
    "\n",
    "display(dbutils.fs.ls(\"/mnt/bronze-layer/2025-05-12\"))"
   ]
  },
  {
   "cell_type": "code",
   "execution_count": 0,
   "metadata": {
    "application/vnd.databricks.v1+cell": {
     "cellMetadata": {
      "byteLimit": 2048000,
      "rowLimit": 10000
     },
     "inputWidgets": {},
     "nuid": "84947e36-876d-4f01-a8b5-59875566aef7",
     "showTitle": false,
     "tableResultSettingsMap": {},
     "title": ""
    }
   },
   "outputs": [],
   "source": [
    "dbutils.widgets.text(\"date_val\", \"\")\n",
    "date_val = dbutils.widgets.get(\"date_val\")"
   ]
  },
  {
   "cell_type": "code",
   "execution_count": 0,
   "metadata": {
    "application/vnd.databricks.v1+cell": {
     "cellMetadata": {
      "byteLimit": 2048000,
      "rowLimit": 10000
     },
     "inputWidgets": {},
     "nuid": "22453343-0584-4c3f-9a1b-7fe7c6a850f4",
     "showTitle": false,
     "tableResultSettingsMap": {},
     "title": ""
    }
   },
   "outputs": [],
   "source": [
    "date_val = calculate_date(date_val)"
   ]
  },
  {
   "cell_type": "code",
   "execution_count": 0,
   "metadata": {
    "application/vnd.databricks.v1+cell": {
     "cellMetadata": {
      "byteLimit": 2048000,
      "rowLimit": 10000
     },
     "inputWidgets": {},
     "nuid": "914bd126-36fc-41f1-a7b2-af5c0244209a",
     "showTitle": false,
     "tableResultSettingsMap": {},
     "title": ""
    }
   },
   "outputs": [],
   "source": [
    "input_path = f'/mnt/bronze-layer/{date_val}/*.json'\n",
    "\n",
    "df = spark.read.json(input_path)\n",
    "\n"
   ]
  },
  {
   "cell_type": "code",
   "execution_count": 0,
   "metadata": {
    "application/vnd.databricks.v1+cell": {
     "cellMetadata": {
      "byteLimit": 2048000,
      "rowLimit": 10000
     },
     "inputWidgets": {},
     "nuid": "a5fdd43a-2ebf-4772-b48a-956c058ad199",
     "showTitle": false,
     "tableResultSettingsMap": {},
     "title": ""
    }
   },
   "outputs": [],
   "source": [
    "res_df = df.select('metadata.count')\n",
    "print(res_df)\n",
    "initial_record_count = res_df.collect()[0]['count']\n",
    "print(initial_record_count)"
   ]
  },
  {
   "cell_type": "code",
   "execution_count": 0,
   "metadata": {
    "application/vnd.databricks.v1+cell": {
     "cellMetadata": {
      "byteLimit": 2048000,
      "rowLimit": 10000
     },
     "inputWidgets": {},
     "nuid": "0c2c4627-b912-419c-bd65-ab731dbd79ee",
     "showTitle": false,
     "tableResultSettingsMap": {},
     "title": ""
    }
   },
   "outputs": [],
   "source": [
    "df.withColumn('feature',explode('features')).select('feature.properties').show(truncate=False)"
   ]
  },
  {
   "cell_type": "code",
   "execution_count": 0,
   "metadata": {
    "application/vnd.databricks.v1+cell": {
     "cellMetadata": {
      "byteLimit": 2048000,
      "rowLimit": 10000
     },
     "inputWidgets": {},
     "nuid": "02fa9eb5-3e15-4fc2-ad51-ccb5ea0c003c",
     "showTitle": false,
     "tableResultSettingsMap": {},
     "title": ""
    }
   },
   "outputs": [],
   "source": [
    "# Explode the 'features' column to create a new row for each element in the array\n",
    "df = df.withColumn('fearures', explode(col('features')))\n",
    "\n",
    "# Select the 'properties' field from the exploded 'features' column\n",
    "df = df.select('fearures.properties')\n",
    "\n",
    "# Display the resulting DataFrame\n"
   ]
  },
  {
   "cell_type": "code",
   "execution_count": 0,
   "metadata": {
    "application/vnd.databricks.v1+cell": {
     "cellMetadata": {
      "byteLimit": 2048000,
      "rowLimit": 10000
     },
     "inputWidgets": {},
     "nuid": "2785da31-5221-440b-926a-649c2ccac12a",
     "showTitle": false,
     "tableResultSettingsMap": {},
     "title": ""
    }
   },
   "outputs": [],
   "source": [
    "# List of columns to be extracted from the 'properties' field\n",
    "col_lst = ['alert','cdi','code','detail','dmin','felt','gap','ids','mag','magType','mmi','net','nst','place','rms','sig','sources','status','time','title','tsunami','type','types','tz','updated','url']\n",
    "\n",
    "# Loop through each column in the list and create a new column in the DataFrame\n",
    "# by extracting the corresponding field from the 'properties' column\n",
    "for column in col_lst:\n",
    "    df = df.withColumn(column, col(f'properties.{column}'))\n",
    "\n",
    "# Drop the 'properties' column as it is no longer needed\n",
    "df = df.drop('properties')"
   ]
  },
  {
   "cell_type": "code",
   "execution_count": 0,
   "metadata": {
    "application/vnd.databricks.v1+cell": {
     "cellMetadata": {
      "byteLimit": 2048000,
      "rowLimit": 10000
     },
     "inputWidgets": {},
     "nuid": "5492c11e-57a5-406b-9594-6d88eb99e8b7",
     "showTitle": false,
     "tableResultSettingsMap": {},
     "title": ""
    }
   },
   "outputs": [],
   "source": [
    "# Count the number of records in the DataFrame after transformations\n",
    "final_count = df.count()\n",
    "\n",
    "# Check if the final record count matches the initial record count\n",
    "if initial_record_count != final_count:\n",
    "    # Raise an error if the record counts do not match\n",
    "    raise ValueError(f\"Expected {initial_record_count} records, but found {final_count} records.\")"
   ]
  },
  {
   "cell_type": "code",
   "execution_count": 0,
   "metadata": {
    "application/vnd.databricks.v1+cell": {
     "cellMetadata": {
      "byteLimit": 2048000,
      "rowLimit": 10000
     },
     "inputWidgets": {},
     "nuid": "3a543257-923e-4b8d-b4e6-7bb8462012cc",
     "showTitle": false,
     "tableResultSettingsMap": {},
     "title": ""
    }
   },
   "outputs": [],
   "source": [
    "\n",
    "df = df.withColumn('timestamp_column', from_unixtime(col('time')/1000)).withColumn('updated_timestamp', from_unixtime(col('updated')/1000)).withColumn('ingest_ts',current_timestamp())\n",
    "\n",
    "df.select('time','timestamp_column','updated','updated_timestamp','ingest_ts').display()\n",
    "\n",
    "df.write.mode('overwrite').format('parquet').save(f'/mnt/silver-layer/{date_val}/earthqukedata')"
   ]
  }
 ],
 "metadata": {
  "application/vnd.databricks.v1+notebook": {
   "computePreferences": null,
   "dashboards": [],
   "environmentMetadata": {
    "base_environment": "",
    "environment_version": "2"
   },
   "inputWidgetPreferences": null,
   "language": "python",
   "notebookMetadata": {
    "pythonIndentUnit": 4
   },
   "notebookName": "main_data_transformation",
   "widgets": {
    "date_val": {
     "currentValue": "2025-05-12",
     "nuid": "813af1a6-4fda-4ee3-8074-2301e1d92e19",
     "typedWidgetInfo": {
      "autoCreated": false,
      "defaultValue": "",
      "label": null,
      "name": "date_val",
      "options": {
       "widgetDisplayType": "Text",
       "validationRegex": null
      },
      "parameterDataType": "String"
     },
     "widgetInfo": {
      "widgetType": "text",
      "defaultValue": "",
      "label": null,
      "name": "date_val",
      "options": {
       "widgetType": "text",
       "autoCreated": null,
       "validationRegex": null
      }
     }
    }
   }
  },
  "language_info": {
   "name": "python"
  }
 },
 "nbformat": 4,
 "nbformat_minor": 0
}
