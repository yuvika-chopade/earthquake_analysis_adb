{
 "cells": [
  {
   "cell_type": "markdown",
   "metadata": {
    "application/vnd.databricks.v1+cell": {
     "cellMetadata": {},
     "inputWidgets": {},
     "nuid": "1babd13c-c219-4a2a-aa24-4f96edab620c",
     "showTitle": false,
     "tableResultSettingsMap": {},
     "title": ""
    }
   },
   "source": [
    "-declaration: one time activity"
   ]
  },
  {
   "cell_type": "code",
   "execution_count": 0,
   "metadata": {
    "application/vnd.databricks.v1+cell": {
     "cellMetadata": {
      "byteLimit": 2048000,
      "rowLimit": 10000
     },
     "inputWidgets": {},
     "nuid": "2214b79f-cd7f-4952-99ce-468ee4d12f5a",
     "showTitle": false,
     "tableResultSettingsMap": {},
     "title": ""
    }
   },
   "outputs": [],
   "source": [
    "# Configuration settings for Azure Data Lake Storage (ADLS) using SAS token\n",
    "configs = {\n",
    "    \"fs.azure.account.auth.type\": \"SAS\",\n",
    "    \"fs.azure.sas.token.provider.type\": \"org.apache.hadoop.fs.azurebfs.sas.FixedSASTokenProvider\",\n",
    "    \"fs.azure.sas.fixed.token\": \"sp=racwdlmeop&st=2025-05-12T14:28:06Z&se=2025-05-30T22:28:06Z&sv=2024-11-04&sr=c&sig=vuo6BNHUMNTrCb7yPezEQvDBrLKxLxVgszA0xpif1DM%3D\"\n",
    "}\n",
    "\n",
    "# Mount the ADLS container to Databricks file system (DBFS)\n",
    "dbutils.fs.mount(\n",
    "    source=\"abfss://bronze-layer@stgearthdataanalysis.dfs.core.windows.net/\",\n",
    "    mount_point=\"/mnt/bronze-layer\",\n",
    "    extra_configs=configs\n",
    ")"
   ]
  },
  {
   "cell_type": "code",
   "execution_count": 0,
   "metadata": {
    "application/vnd.databricks.v1+cell": {
     "cellMetadata": {
      "byteLimit": 2048000,
      "rowLimit": 10000
     },
     "inputWidgets": {},
     "nuid": "04fa7106-c9ed-480c-a573-17e7a5cf56fe",
     "showTitle": false,
     "tableResultSettingsMap": {},
     "title": ""
    }
   },
   "outputs": [],
   "source": [
    "# Configuration settings for Azure Data Lake Storage (ADLS) using SAS token\n",
    "configs = {\n",
    "    \"fs.azure.account.auth.type\": \"SAS\",\n",
    "    \"fs.azure.sas.token.provider.type\": \"org.apache.hadoop.fs.azurebfs.sas.FixedSASTokenProvider\",\n",
    "    \"fs.azure.sas.fixed.token\": \"sp=racwdlmeop&st=2025-05-12T17:58:08Z&se=2025-05-31T01:58:08Z&sv=2024-11-04&sr=c&sig=JvOHs2vcjB4E%2BKucy8ENtfbnOhE4TssBk60QRhTokq4%3D\"\n",
    "}\n",
    "\n",
    "# Mount the ADLS container to Databricks file system (DBFS)\n",
    "dbutils.fs.mount(\n",
    "    source=\"abfss://silver-layer@stgearthdataanalysis.dfs.core.windows.net/\",\n",
    "    mount_point=\"/mnt/silver-layer\",\n",
    "    extra_configs=configs\n",
    ")"
   ]
  }
 ],
 "metadata": {
  "application/vnd.databricks.v1+notebook": {
   "computePreferences": null,
   "dashboards": [],
   "environmentMetadata": {
    "base_environment": "",
    "environment_version": "2"
   },
   "inputWidgetPreferences": null,
   "language": "python",
   "notebookMetadata": {
    "pythonIndentUnit": 4
   },
   "notebookName": "mount_point_creation",
   "widgets": {}
  },
  "language_info": {
   "name": "python"
  }
 },
 "nbformat": 4,
 "nbformat_minor": 0
}
